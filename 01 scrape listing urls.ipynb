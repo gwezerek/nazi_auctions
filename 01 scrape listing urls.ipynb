{
 "cells": [
  {
   "cell_type": "code",
   "execution_count": 15,
   "id": "0ace2da9",
   "metadata": {},
   "outputs": [],
   "source": [
    "import pandas as pd\n",
    "from time import sleep\n",
    "from slugify import slugify\n",
    "import random\n",
    "import datetime\n",
    "\n",
    "from selenium import webdriver\n",
    "from selenium.common import exceptions\n",
    "from selenium.webdriver.common.by import By\n",
    "from selenium.webdriver.support.ui import WebDriverWait\n",
    "from selenium.webdriver.support import expected_conditions as EC\n",
    "from selenium.webdriver.common.action_chains import ActionChains\n",
    "\n",
    "from selenium_stealth import stealth\n",
    "\n",
    "pd.set_option('display.max_colwidth', None)\n",
    "%matplotlib inline"
   ]
  },
  {
   "cell_type": "code",
   "execution_count": 7,
   "id": "794742d9",
   "metadata": {
    "collapsed": true
   },
   "outputs": [
    {
     "ename": "NameError",
     "evalue": "name 'Luftwaffe' is not defined",
     "output_type": "error",
     "traceback": [
      "\u001b[0;31m---------------------------------------------------------------------------\u001b[0m",
      "\u001b[0;31mNameError\u001b[0m                                 Traceback (most recent call last)",
      "\u001b[0;32m<ipython-input-7-353b91bec7dc>\u001b[0m in \u001b[0;36m<module>\u001b[0;34m\u001b[0m\n\u001b[0;32m----> 1\u001b[0;31m \u001b[0mLuftwaffe\u001b[0m\u001b[0;34m\u001b[0m\u001b[0;34m\u001b[0m\u001b[0m\n\u001b[0m",
      "\u001b[0;31mNameError\u001b[0m: name 'Luftwaffe' is not defined"
     ]
    }
   ],
   "source": [
    "# nazi luftwaffe\n",
    "# nazi kriegsmarine\n",
    "# nazi heer\n",
    "# Schutzstaffel\n",
    "# Third Reich\n",
    "Nazi SS"
   ]
  },
  {
   "cell_type": "code",
   "execution_count": 16,
   "id": "5b8ac7f7",
   "metadata": {},
   "outputs": [],
   "source": [
    "def generateDriver():\n",
    "    options = webdriver.ChromeOptions() \n",
    "    options.add_argument(\"user-data-dir=selenium\")\n",
    "    options.add_argument('--no-sandbox')\n",
    "    options.add_argument('--disable-dev-shm-usage') \n",
    "    options.add_argument(\"start-maximized\")\n",
    "    options.add_argument(\"--disable-blink-features=AutomationControlled\") \n",
    "    options.add_experimental_option('excludeSwitches', [\"enable-automation\"])\n",
    "    options.add_experimental_option('useAutomationExtension', False)\n",
    "    driver = webdriver.Chrome(options = options)\n",
    "    stealth(driver,\n",
    "            languages=[\"en-US\", \"en\"],\n",
    "            vendor=\"Google Inc.\",\n",
    "            platform=\"Win32\",\n",
    "            webgl_vendor=\"Intel Inc.\",\n",
    "            renderer=\"Intel Iris OpenGL Engine\")\n",
    "\n",
    "    driver.execute_script(\"Object.defineProperty(navigator, 'webdriver', {get: () => undefined})\") \n",
    "    driver.get('https://www.liveauctioneers.com/search/')\n",
    "    return driver\n",
    "\n",
    "driver = generateDriver()"
   ]
  },
  {
   "cell_type": "code",
   "execution_count": null,
   "id": "47a7e2b1",
   "metadata": {},
   "outputs": [
    {
     "name": "stdout",
     "output_type": "stream",
     "text": [
      "0 https://www.liveauctioneers.com/search/?country=US&keyword=nazi%20ss&saleDateMax=946709999&saleDateMin=915174000&sort=-saleStart&status=archive\n",
      "0 https://www.liveauctioneers.com/search/?country=US&keyword=nazi%20ss&saleDateMax=978332399&saleDateMin=946710000&sort=-saleStart&status=archive\n",
      "0 https://www.liveauctioneers.com/search/?country=US&keyword=nazi%20ss&saleDateMax=1009868399&saleDateMin=978332400&sort=-saleStart&status=archive\n",
      "0 https://www.liveauctioneers.com/search/?country=US&keyword=nazi%20ss&saleDateMax=1041404399&saleDateMin=1009868400&sort=-saleStart&status=archive\n",
      "2 https://www.liveauctioneers.com/search/?country=US&keyword=nazi%20ss&pageSize=120&saleDateMax=1072940399&saleDateMin=1041404400&sort=-saleStart&status=archive\n",
      "2 https://www.liveauctioneers.com/search/?country=US&keyword=nazi%20ss&saleDateMax=1104562799&saleDateMin=1072940400&sort=-saleStart&status=archive\n",
      "3 https://www.liveauctioneers.com/search/?country=US&keyword=nazi%20ss&pageSize=120&saleDateMax=1136098799&saleDateMin=1104562800&sort=-saleStart&status=archive\n",
      "3 https://www.liveauctioneers.com/search/?country=US&keyword=nazi%20ss&saleDateMax=1167634799&saleDateMin=1136098800&sort=-saleStart&status=archive\n",
      "4 https://www.liveauctioneers.com/search/?country=US&keyword=nazi%20ss&pageSize=120&saleDateMax=1199170799&saleDateMin=1167634800&sort=-saleStart&status=archive\n",
      "5 https://www.liveauctioneers.com/search/?country=US&keyword=nazi%20ss&pageSize=120&saleDateMax=1230793199&saleDateMin=1199170800&sort=-saleStart&status=archive\n",
      "13 https://www.liveauctioneers.com/search/?country=US&keyword=nazi%20ss&pageSize=120&saleDateMax=1262329199&saleDateMin=1230793200&sort=-saleStart&status=archive\n",
      "110 https://www.liveauctioneers.com/search/?country=US&keyword=nazi%20ss&pageSize=120&saleDateMax=1293865199&saleDateMin=1262329200&sort=-saleStart&status=archive\n",
      "1078 https://www.liveauctioneers.com/search/?country=US&keyword=nazi%20ss&page=9&pageSize=120&saleDateMax=1325401199&saleDateMin=1293865200&sort=-saleStart&status=archive\n",
      "1870 https://www.liveauctioneers.com/search/?country=US&keyword=nazi%20ss&page=7&pageSize=120&saleDateMax=1357023599&saleDateMin=1325401200&sort=-saleStart&status=archive\n",
      "2559 https://www.liveauctioneers.com/search/?country=US&keyword=nazi%20ss&page=6&pageSize=120&saleDateMax=1388559599&saleDateMin=1357023600&sort=-saleStart&status=archive\n",
      "3209 https://www.liveauctioneers.com/search/?country=US&keyword=nazi%20ss&page=6&pageSize=120&saleDateMax=1420095599&saleDateMin=1388559600&sort=-saleStart&status=archive\n",
      "3473 https://www.liveauctioneers.com/search/?country=US&keyword=nazi%20ss&page=3&pageSize=120&saleDateMax=1451631599&saleDateMin=1420095600&sort=-saleStart&status=archive\n",
      "3745 https://www.liveauctioneers.com/search/?country=US&keyword=nazi%20ss&page=3&pageSize=120&saleDateMax=1483253999&saleDateMin=1451631600&sort=-saleStart&status=archive\n",
      "4022 https://www.liveauctioneers.com/search/?country=US&keyword=nazi%20ss&page=3&pageSize=120&saleDateMax=1514789999&saleDateMin=1483254000&sort=-saleStart&status=archive\n",
      "4296 https://www.liveauctioneers.com/search/?country=US&keyword=nazi%20ss&page=3&pageSize=120&saleDateMax=1546325999&saleDateMin=1514790000&sort=-saleStart&status=archive\n",
      "4971 https://www.liveauctioneers.com/search/?country=US&keyword=nazi%20ss&page=6&pageSize=120&saleDateMax=1577861999&saleDateMin=1546326000&sort=-saleStart&status=archive\n",
      "5744 https://www.liveauctioneers.com/search/?country=US&keyword=nazi%20ss&page=7&pageSize=120&saleDateMax=1609484399&saleDateMin=1577862000&sort=-saleStart&status=archive\n",
      "6238 https://www.liveauctioneers.com/search/?country=US&keyword=nazi%20ss&page=5&pageSize=120&saleDateMax=1641020399&saleDateMin=1609484400&sort=-saleStart&status=archive\n",
      "6726 https://www.liveauctioneers.com/search/?country=US&keyword=nazi%20ss&page=5&pageSize=120&saleDateMax=1672556399&saleDateMin=1641020400&sort=-saleStart&status=archive\n"
     ]
    }
   ],
   "source": [
    "urls = []\n",
    "y = 1999\n",
    "term = 'nazi ss'\n",
    "escapedTerm = '%20'.join(term.split(' '))\n",
    "\n",
    "while y < 2024:\n",
    "    start = int(datetime.datetime.strptime('01/01/' + str(y), \"%d/%m/%Y\").timestamp())\n",
    "    end = int(datetime.datetime.strptime('31/12/' + str(y) + ' 23:59:59', \"%d/%m/%Y %H:%M:%S\").timestamp())\n",
    "    time = '&saleDateMax=' + str(end) + '&saleDateMin=' + str(start)\n",
    "    search = 'https://www.liveauctioneers.com/search/?country=US&keyword=' + escapedTerm + time + '&sort=-saleStart&status=archive'\n",
    "    driver.get(search)\n",
    "    if (driver.find_elements(By.CSS_SELECTOR, '[class*=\"SearchResults__StyledResults\"] div:last-child div:last-child [data-testid=\"select\"]')):\n",
    "        driver.find_element(By.CSS_SELECTOR, '[class*=\"SearchResults__StyledResults\"] div:last-child div:last-child [data-testid=\"select\"]').click()\n",
    "        sleep(2)\n",
    "        if (driver.find_elements(By.CSS_SELECTOR, '#react-select-pagesize-option-4')):\n",
    "            driver.find_element(By.CSS_SELECTOR, '#react-select-pagesize-option-4').click()\n",
    "    while True:\n",
    "        sleep(random.randint(15,25))\n",
    "        try:\n",
    "            listings = driver.find_elements(By.CSS_SELECTOR, 'article[class*=\"CategorySearchCard__StyledCard\"]')\n",
    "            for c in listings:\n",
    "                url = c.find_element(By.CSS_SELECTOR, '[data-testid=\"itemCard\"]').get_attribute('href')    \n",
    "                urls.append(url)         \n",
    "        except (exceptions.NoSuchElementException, exceptions.StaleElementReferenceException):\n",
    "            break\n",
    "        if (driver.find_elements(By.CSS_SELECTOR, 'li.next.disabled') or len(listings) == 0):\n",
    "            break\n",
    "        more = driver.find_element(By.CSS_SELECTOR, '[class*=\"SearchResults__StyledResults\"] div:last-child ul li:last-child a')   \n",
    "        more.click()\n",
    "    print(len(urls), driver.current_url)\n",
    "    y = y + 1\n",
    "    \n",
    "print('Done!', len(list(set(urls))))"
   ]
  },
  {
   "cell_type": "code",
   "execution_count": 22,
   "id": "7df96313",
   "metadata": {},
   "outputs": [],
   "source": [
    "df_urls = pd.DataFrame(list(set(urls)), columns=[\"url\"])\n",
    "df_urls.to_csv('data/urls_' + '_'.join(term.split(' ')) + '.csv', index = False)"
   ]
  },
  {
   "cell_type": "code",
   "execution_count": 40,
   "id": "891edafe",
   "metadata": {},
   "outputs": [],
   "source": [
    "all_files = [\n",
    "    'data/urls_nazi_heer.csv',\n",
    "    'data/urls_nazi_kriegsmarine.csv',\n",
    "    'data/urls_nazi_luftwaffe.csv',\n",
    "    'data/urls_nazi_ss.csv',\n",
    "    'data/urls_schutzstaffel.csv',\n",
    "    'data/urls_third_reich.csv',\n",
    "    'data/urls_wehrmacht.csv'\n",
    "]\n",
    "df = pd.concat((pd.read_csv(f) for f in all_files), ignore_index=True).drop_duplicates()\n",
    "df1 = pd.read_csv('data/urls_nazi_swastika.csv')\n",
    "l3 = [x for x in df.url.tolist() if x not in df1.url.tolist()]\n",
    "pd.DataFrame(l3, columns=[\"url\"]).to_csv('data/urls_not_swastika.csv', index = False)"
   ]
  }
 ],
 "metadata": {
  "kernelspec": {
   "display_name": "Python 3",
   "language": "python",
   "name": "python3"
  },
  "language_info": {
   "codemirror_mode": {
    "name": "ipython",
    "version": 3
   },
   "file_extension": ".py",
   "mimetype": "text/x-python",
   "name": "python",
   "nbconvert_exporter": "python",
   "pygments_lexer": "ipython3",
   "version": "3.9.5"
  }
 },
 "nbformat": 4,
 "nbformat_minor": 5
}
